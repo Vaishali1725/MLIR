{
 "cells": [
  {
   "cell_type": "code",
   "execution_count": 1,
   "id": "68f2c9ff",
   "metadata": {},
   "outputs": [],
   "source": [
    "import math "
   ]
  },
  {
   "cell_type": "code",
   "execution_count": 2,
   "id": "e4b0afab",
   "metadata": {},
   "outputs": [],
   "source": [
    "def weightedkNN(points,p,k=3): \n",
    "    distance=[] \n",
    "    for group in points: \n",
    "        for feature in points[group]: \n",
    "  \n",
    "            #calculate the euclidean distance of p from training points \n",
    "            euclidean_distance = math.sqrt((feature[0]-p[0])**2 +(feature[1]-p[1])**2) \n",
    "  \n",
    "            # Add a tuple of form (distance,group) in the distance list \n",
    "            distance.append((euclidean_distance,group)) \n",
    "  \n",
    "    # sort the distance list in ascending order \n",
    "    # and select first k distances \n",
    "    distance = sorted(distance)[:k] \n",
    "  \n",
    "    freq1 = 0 # weighted sum of group 0 \n",
    "    freq2 = 0 # weighted sum of group 1 \n",
    "  \n",
    "    for d in distance:\n",
    "        if d[1] == 0:\n",
    "            freq1 += (1 / d[0])\n",
    "              \n",
    "        elif d[1] == 1: \n",
    "            freq2 += (1 /d[0])\n",
    "              \n",
    "  \n",
    "    return 0 if freq1>freq2 else 1"
   ]
  },
  {
   "cell_type": "code",
   "execution_count": 3,
   "id": "bbc6fffd",
   "metadata": {},
   "outputs": [],
   "source": [
    "def main(): \n",
    "  \n",
    "    # Dictionary of training points having two keys - 0 and 1 \n",
    "    # key 0 have points belong to class 0 \n",
    "    # key 1 have points belong to class 1 \n",
    "  \n",
    "    points = {0:[(0, 4),(1, 4.9),(1.6, 5.4),(2.2, 6),(2.8, 7),(3.2, 8),(3.4, 9)], \n",
    "            1:[(1.8, 1),(2.2, 3),(3, 4),(4, 4.5),(5, 5),(6, 5.5)]} \n",
    "  \n",
    "    # query point p(x,y) \n",
    "    p = (2, 4) \n",
    "  \n",
    "    # Number of neighbours \n",
    "    k = 5\n",
    "  \n",
    "    print(\"The value classified to query point is: {}\".format(weightedkNN(points,p,k))) "
   ]
  },
  {
   "cell_type": "code",
   "execution_count": 4,
   "id": "b788ab30",
   "metadata": {},
   "outputs": [
    {
     "name": "stdout",
     "output_type": "stream",
     "text": [
      "The value classified to query point is: 1\n"
     ]
    }
   ],
   "source": [
    "if __name__ == '__main__': \n",
    "    main() "
   ]
  },
  {
   "cell_type": "code",
   "execution_count": null,
   "id": "8448c235",
   "metadata": {},
   "outputs": [],
   "source": []
  }
 ],
 "metadata": {
  "kernelspec": {
   "display_name": "Python 3",
   "language": "python",
   "name": "python3"
  },
  "language_info": {
   "codemirror_mode": {
    "name": "ipython",
    "version": 3
   },
   "file_extension": ".py",
   "mimetype": "text/x-python",
   "name": "python",
   "nbconvert_exporter": "python",
   "pygments_lexer": "ipython3",
   "version": "3.8.8"
  }
 },
 "nbformat": 4,
 "nbformat_minor": 5
}
