{
 "cells": [
  {
   "cell_type": "code",
   "execution_count": 1,
   "id": "226672d8",
   "metadata": {},
   "outputs": [],
   "source": [
    "import pandas as pd\n",
    "import numpy as np\n",
    "import matplotlib.pyplot as plt\n",
    "import scipy.optimize as opt"
   ]
  },
  {
   "cell_type": "code",
   "execution_count": 2,
   "id": "f8e3c142",
   "metadata": {},
   "outputs": [
    {
     "name": "stdout",
     "output_type": "stream",
     "text": [
      "Number of training examples m =  100\n",
      "Number of features n =  2\n"
     ]
    },
    {
     "data": {
      "text/html": [
       "<div>\n",
       "<style scoped>\n",
       "    .dataframe tbody tr th:only-of-type {\n",
       "        vertical-align: middle;\n",
       "    }\n",
       "\n",
       "    .dataframe tbody tr th {\n",
       "        vertical-align: top;\n",
       "    }\n",
       "\n",
       "    .dataframe thead th {\n",
       "        text-align: right;\n",
       "    }\n",
       "</style>\n",
       "<table border=\"1\" class=\"dataframe\">\n",
       "  <thead>\n",
       "    <tr style=\"text-align: right;\">\n",
       "      <th></th>\n",
       "      <th>Exam 1 marks</th>\n",
       "      <th>Exam 2 marks</th>\n",
       "      <th>Admission status</th>\n",
       "    </tr>\n",
       "  </thead>\n",
       "  <tbody>\n",
       "    <tr>\n",
       "      <th>72</th>\n",
       "      <td>72.346494</td>\n",
       "      <td>96.227593</td>\n",
       "      <td>1</td>\n",
       "    </tr>\n",
       "    <tr>\n",
       "      <th>59</th>\n",
       "      <td>71.796462</td>\n",
       "      <td>78.453562</td>\n",
       "      <td>1</td>\n",
       "    </tr>\n",
       "    <tr>\n",
       "      <th>18</th>\n",
       "      <td>70.661510</td>\n",
       "      <td>92.927138</td>\n",
       "      <td>1</td>\n",
       "    </tr>\n",
       "    <tr>\n",
       "      <th>82</th>\n",
       "      <td>67.319257</td>\n",
       "      <td>66.589353</td>\n",
       "      <td>1</td>\n",
       "    </tr>\n",
       "    <tr>\n",
       "      <th>15</th>\n",
       "      <td>53.971052</td>\n",
       "      <td>89.207350</td>\n",
       "      <td>1</td>\n",
       "    </tr>\n",
       "  </tbody>\n",
       "</table>\n",
       "</div>"
      ],
      "text/plain": [
       "    Exam 1 marks  Exam 2 marks  Admission status\n",
       "72     72.346494     96.227593                 1\n",
       "59     71.796462     78.453562                 1\n",
       "18     70.661510     92.927138                 1\n",
       "82     67.319257     66.589353                 1\n",
       "15     53.971052     89.207350                 1"
      ]
     },
     "execution_count": 2,
     "metadata": {},
     "output_type": "execute_result"
    }
   ],
   "source": [
    "df = pd.read_csv('https://raw.githubusercontent.com/satishgunjal/datasets/master/admission_basedon_exam_scores.csv')\n",
    "m, n = df.shape\n",
    "print('Number of training examples m = ', m)\n",
    "print('Number of features n = ', n - 1) # Not counting the 'Label: Admission status'\n",
    "df.sample(5) # Show random 5 training examples"
   ]
  },
  {
   "cell_type": "code",
   "execution_count": 3,
   "id": "c8c983ae",
   "metadata": {},
   "outputs": [
    {
     "name": "stdout",
     "output_type": "stream",
     "text": [
      "Dimension of df_admitted=  (60, 3)\n"
     ]
    },
    {
     "data": {
      "text/html": [
       "<div>\n",
       "<style scoped>\n",
       "    .dataframe tbody tr th:only-of-type {\n",
       "        vertical-align: middle;\n",
       "    }\n",
       "\n",
       "    .dataframe tbody tr th {\n",
       "        vertical-align: top;\n",
       "    }\n",
       "\n",
       "    .dataframe thead th {\n",
       "        text-align: right;\n",
       "    }\n",
       "</style>\n",
       "<table border=\"1\" class=\"dataframe\">\n",
       "  <thead>\n",
       "    <tr style=\"text-align: right;\">\n",
       "      <th></th>\n",
       "      <th>Exam 1 marks</th>\n",
       "      <th>Exam 2 marks</th>\n",
       "      <th>Admission status</th>\n",
       "    </tr>\n",
       "  </thead>\n",
       "  <tbody>\n",
       "    <tr>\n",
       "      <th>19</th>\n",
       "      <td>76.978784</td>\n",
       "      <td>47.575964</td>\n",
       "      <td>1</td>\n",
       "    </tr>\n",
       "    <tr>\n",
       "      <th>77</th>\n",
       "      <td>50.458160</td>\n",
       "      <td>75.809860</td>\n",
       "      <td>1</td>\n",
       "    </tr>\n",
       "    <tr>\n",
       "      <th>8</th>\n",
       "      <td>76.098787</td>\n",
       "      <td>87.420570</td>\n",
       "      <td>1</td>\n",
       "    </tr>\n",
       "    <tr>\n",
       "      <th>12</th>\n",
       "      <td>82.307053</td>\n",
       "      <td>76.481963</td>\n",
       "      <td>1</td>\n",
       "    </tr>\n",
       "    <tr>\n",
       "      <th>56</th>\n",
       "      <td>97.645634</td>\n",
       "      <td>68.861573</td>\n",
       "      <td>1</td>\n",
       "    </tr>\n",
       "  </tbody>\n",
       "</table>\n",
       "</div>"
      ],
      "text/plain": [
       "    Exam 1 marks  Exam 2 marks  Admission status\n",
       "19     76.978784     47.575964                 1\n",
       "77     50.458160     75.809860                 1\n",
       "8      76.098787     87.420570                 1\n",
       "12     82.307053     76.481963                 1\n",
       "56     97.645634     68.861573                 1"
      ]
     },
     "execution_count": 3,
     "metadata": {},
     "output_type": "execute_result"
    }
   ],
   "source": [
    "df_admitted = df[df['Admission status'] == 1]\n",
    "print('Dimension of df_admitted= ', df_admitted.shape)\n",
    "df_admitted.sample(5)"
   ]
  },
  {
   "cell_type": "code",
   "execution_count": 4,
   "id": "0bf0ae6b",
   "metadata": {},
   "outputs": [
    {
     "name": "stdout",
     "output_type": "stream",
     "text": [
      "Dimension of df_notadmitted=  (40, 3)\n"
     ]
    },
    {
     "data": {
      "text/html": [
       "<div>\n",
       "<style scoped>\n",
       "    .dataframe tbody tr th:only-of-type {\n",
       "        vertical-align: middle;\n",
       "    }\n",
       "\n",
       "    .dataframe tbody tr th {\n",
       "        vertical-align: top;\n",
       "    }\n",
       "\n",
       "    .dataframe thead th {\n",
       "        text-align: right;\n",
       "    }\n",
       "</style>\n",
       "<table border=\"1\" class=\"dataframe\">\n",
       "  <thead>\n",
       "    <tr style=\"text-align: right;\">\n",
       "      <th></th>\n",
       "      <th>Exam 1 marks</th>\n",
       "      <th>Exam 2 marks</th>\n",
       "      <th>Admission status</th>\n",
       "    </tr>\n",
       "  </thead>\n",
       "  <tbody>\n",
       "    <tr>\n",
       "      <th>43</th>\n",
       "      <td>82.368754</td>\n",
       "      <td>40.618255</td>\n",
       "      <td>0</td>\n",
       "    </tr>\n",
       "    <tr>\n",
       "      <th>34</th>\n",
       "      <td>40.236894</td>\n",
       "      <td>71.167748</td>\n",
       "      <td>0</td>\n",
       "    </tr>\n",
       "    <tr>\n",
       "      <th>64</th>\n",
       "      <td>44.668262</td>\n",
       "      <td>66.450086</td>\n",
       "      <td>0</td>\n",
       "    </tr>\n",
       "    <tr>\n",
       "      <th>61</th>\n",
       "      <td>35.286113</td>\n",
       "      <td>47.020514</td>\n",
       "      <td>0</td>\n",
       "    </tr>\n",
       "    <tr>\n",
       "      <th>53</th>\n",
       "      <td>34.524514</td>\n",
       "      <td>60.396342</td>\n",
       "      <td>0</td>\n",
       "    </tr>\n",
       "  </tbody>\n",
       "</table>\n",
       "</div>"
      ],
      "text/plain": [
       "    Exam 1 marks  Exam 2 marks  Admission status\n",
       "43     82.368754     40.618255                 0\n",
       "34     40.236894     71.167748                 0\n",
       "64     44.668262     66.450086                 0\n",
       "61     35.286113     47.020514                 0\n",
       "53     34.524514     60.396342                 0"
      ]
     },
     "execution_count": 4,
     "metadata": {},
     "output_type": "execute_result"
    }
   ],
   "source": [
    "df_notadmitted = df[df['Admission status'] == 0]\n",
    "print('Dimension of df_notadmitted= ', df_notadmitted.shape)\n",
    "df_notadmitted.sample(5)"
   ]
  },
  {
   "cell_type": "code",
   "execution_count": 5,
   "id": "a9a355be",
   "metadata": {},
   "outputs": [
    {
     "data": {
      "text/plain": [
       "Text(0.5, 1.0, 'Admitted Vs Not Admitted Applicants')"
      ]
     },
     "execution_count": 5,
     "metadata": {},
     "output_type": "execute_result"
    },
    {
     "data": {
      "image/png": "[encoded data removed]",
      "text/plain": [
       "<Figure size 720x432 with 1 Axes>"
      ]
     },
     "metadata": {
      "needs_background": "light"
     },
     "output_type": "display_data"
    }
   ],
   "source": [
    "plt.figure(figsize = (10,6))\n",
    "plt.scatter(df_admitted['Exam 1 marks'], df_admitted['Exam 2 marks'], color='green', label='Admitted Applicants')\n",
    "plt.scatter(df_notadmitted['Exam 1 marks'], df_notadmitted['Exam 2 marks'], color='red', label='Not Admitted Applicants')\n",
    "plt.xlabel('Exam 1 Marks')\n",
    "plt.ylabel('Exam 2 Marks')\n",
    "plt.legend()\n",
    "plt.title('Admitted Vs Not Admitted Applicants')"
   ]
  },
  {
   "cell_type": "code",
   "execution_count": 6,
   "id": "625b1559",
   "metadata": {},
   "outputs": [
    {
     "name": "stdout",
     "output_type": "stream",
     "text": [
      "Dimension of feature matric X =  (100, 3) \n",
      "\n",
      "x = [ 1.         34.62365962 78.02469282] , y = 0\n",
      "x = [ 1.         30.28671077 43.89499752] , y = 0\n",
      "x = [ 1.         35.84740877 72.90219803] , y = 0\n",
      "x = [ 1.         60.18259939 86.3085521 ] , y = 1\n",
      "x = [ 1.         79.03273605 75.34437644] , y = 1\n"
     ]
    }
   ],
   "source": [
    "# Get feature columns from dataframe\n",
    "X = df.iloc[:, 0:2] \n",
    "#Add column of ones (intercept term)\n",
    "X = np.hstack((np.ones((m,1)),X))\n",
    "# Now X is numpy array of 2 dimension\n",
    "print(\"Dimension of feature matric X = \", X.shape, '\\n')\n",
    "\n",
    "y = df.iloc[:, -1]\n",
    "# First 5 records training examples with labels\n",
    "for i in range(5):\n",
    "    print('x =', X[i, ], ', y =', y[i])"
   ]
  },
  {
   "cell_type": "code",
   "execution_count": 7,
   "id": "12b1d49a",
   "metadata": {},
   "outputs": [
    {
     "data": {
      "text/plain": [
       "array([0., 0., 0.])"
      ]
     },
     "execution_count": 7,
     "metadata": {},
     "output_type": "execute_result"
    }
   ],
   "source": [
    "theta = np.zeros(n)\n",
    "theta"
   ]
  },
  {
   "cell_type": "code",
   "execution_count": 8,
   "id": "bc7ea74d",
   "metadata": {},
   "outputs": [],
   "source": [
    "def sigmoid(z):\n",
    "    g = 1 / (1 + np.exp(-z))\n",
    "    return g"
   ]
  },
  {
   "cell_type": "code",
   "execution_count": 10,
   "id": "b78efd92",
   "metadata": {},
   "outputs": [],
   "source": [
    "def cost_function(theta, X, y):\n",
    "    m, n = X.shape\n",
    "    x_dot_theta = X.dot(theta)\n",
    "    J = 1.0 / m * (-y.T.dot(np.log(sigmoid(x_dot_theta))) - (1 - y).T.dot(np.log(1 - sigmoid(x_dot_theta))))\n",
    "    return J"
   ]
  },
  {
   "cell_type": "code",
   "execution_count": 11,
   "id": "a4f0768c",
   "metadata": {},
   "outputs": [],
   "source": [
    "def gradient(theta, X, y):\n",
    "    m, n = X.shape\n",
    "    x_dot_theta = X.dot(theta)\n",
    "\n",
    "    grad = 1.0 / m * (sigmoid(x_dot_theta) - y).T.dot(X)\n",
    "\n",
    "    return grad"
   ]
  },
  {
   "cell_type": "code",
   "execution_count": 12,
   "id": "a057e6b4",
   "metadata": {},
   "outputs": [
    {
     "name": "stdout",
     "output_type": "stream",
     "text": [
      "Cost at initial theta (zeros): 0.6931471805599453\n",
      "Gradient at initial theta (zeros): [ -0.1        -12.00921659 -11.26284221]\n"
     ]
    }
   ],
   "source": [
    "cost = cost_function(theta, X, y)\n",
    "print ('Cost at initial theta (zeros):', cost)\n",
    "\n",
    "grad = gradient(theta, X, y)\n",
    "print ('Gradient at initial theta (zeros):', grad)"
   ]
  },
  {
   "cell_type": "code",
   "execution_count": 13,
   "id": "80f7bb76",
   "metadata": {},
   "outputs": [
    {
     "name": "stdout",
     "output_type": "stream",
     "text": [
      "Cost at theta found by fminunc: 0.20349770158947508\n",
      "theta: [-25.16131853   0.20623159   0.20147149]\n"
     ]
    }
   ],
   "source": [
    "theta, nfeval, rc = opt.fmin_tnc(func=cost_function, fprime= gradient, x0=theta, args=(X, y))\n",
    "cost = cost_function(theta, X, y)\n",
    "print ('Cost at theta found by fminunc:', cost)\n",
    "print ('theta:', theta)"
   ]
  },
  {
   "cell_type": "code",
   "execution_count": 14,
   "id": "5bf272dd",
   "metadata": {},
   "outputs": [
    {
     "data": {
      "text/plain": [
       "Text(0.5, 1.0, 'Decision Boundary')"
      ]
     },
     "execution_count": 14,
     "metadata": {},
     "output_type": "execute_result"
    },
    {
     "data": {
      "image/png": "[encoded data removed]",
      "text/plain": [
       "<Figure size 720x432 with 1 Axes>"
      ]
     },
     "metadata": {
      "needs_background": "light"
     },
     "output_type": "display_data"
    }
   ],
   "source": [
    "# Lets calculate the X and Y values using Decision Boundary formula\n",
    "\n",
    "# For ploting a line we just need 2 points. Here I am taking 'min' and 'max' value as my two X points\n",
    "x_values = [min(X[:, 1]), np.max(X[:, 2])]\n",
    "y_values = - (theta[0] + np.dot(theta[1], x_values)) / theta[2]\n",
    "\n",
    "plt.figure(figsize = (10,6))\n",
    "plt.scatter(df_admitted['Exam 1 marks'], df_admitted['Exam 2 marks'], color='green', label='Admitted Applicants')\n",
    "plt.scatter(df_notadmitted['Exam 1 marks'], df_notadmitted['Exam 2 marks'], color='red', label='Not Admitted Applicants')\n",
    "plt.xlabel('Exam 1 Marks')\n",
    "plt.ylabel('Exam 2 Marks')\n",
    "\n",
    "plt.plot(x_values, y_values, color='blue', label='Decision Boundary')\n",
    "plt.legend()\n",
    "plt.title('Decision Boundary')"
   ]
  },
  {
   "cell_type": "code",
   "execution_count": 15,
   "id": "cfa7294d",
   "metadata": {},
   "outputs": [
    {
     "name": "stdout",
     "output_type": "stream",
     "text": [
      "Admission probability for applicant with scores 45 in Exam 1 and 85 in Exam 2 is = 0.776290623634958\n"
     ]
    }
   ],
   "source": [
    "input_data = np.array([1, 45, 85]) # Note the intercept term '1' in array\n",
    "prob = sigmoid(np.dot(input_data, theta))\n",
    "print ('Admission probability for applicant with scores 45 in Exam 1 and 85 in Exam 2 is =', prob)"
   ]
  },
  {
   "cell_type": "code",
   "execution_count": 16,
   "id": "47900c48",
   "metadata": {},
   "outputs": [],
   "source": [
    "def predict(theta, X):\n",
    "    p = sigmoid(X.dot(theta)) >= 0.5\n",
    "    return p.astype(int)"
   ]
  },
  {
   "cell_type": "code",
   "execution_count": 17,
   "id": "4fa9b42e",
   "metadata": {},
   "outputs": [
    {
     "data": {
      "text/html": [
       "<div>\n",
       "<style scoped>\n",
       "    .dataframe tbody tr th:only-of-type {\n",
       "        vertical-align: middle;\n",
       "    }\n",
       "\n",
       "    .dataframe tbody tr th {\n",
       "        vertical-align: top;\n",
       "    }\n",
       "\n",
       "    .dataframe thead th {\n",
       "        text-align: right;\n",
       "    }\n",
       "</style>\n",
       "<table border=\"1\" class=\"dataframe\">\n",
       "  <thead>\n",
       "    <tr style=\"text-align: right;\">\n",
       "      <th></th>\n",
       "      <th>0</th>\n",
       "      <th>1</th>\n",
       "      <th>2</th>\n",
       "      <th>3</th>\n",
       "      <th>4</th>\n",
       "      <th>5</th>\n",
       "      <th>6</th>\n",
       "      <th>7</th>\n",
       "      <th>8</th>\n",
       "      <th>9</th>\n",
       "      <th>...</th>\n",
       "      <th>90</th>\n",
       "      <th>91</th>\n",
       "      <th>92</th>\n",
       "      <th>93</th>\n",
       "      <th>94</th>\n",
       "      <th>95</th>\n",
       "      <th>96</th>\n",
       "      <th>97</th>\n",
       "      <th>98</th>\n",
       "      <th>99</th>\n",
       "    </tr>\n",
       "  </thead>\n",
       "  <tbody>\n",
       "    <tr>\n",
       "      <th>Admission status</th>\n",
       "      <td>0</td>\n",
       "      <td>0</td>\n",
       "      <td>0</td>\n",
       "      <td>1</td>\n",
       "      <td>1</td>\n",
       "      <td>0</td>\n",
       "      <td>1</td>\n",
       "      <td>1</td>\n",
       "      <td>1</td>\n",
       "      <td>1</td>\n",
       "      <td>...</td>\n",
       "      <td>1</td>\n",
       "      <td>1</td>\n",
       "      <td>0</td>\n",
       "      <td>1</td>\n",
       "      <td>1</td>\n",
       "      <td>1</td>\n",
       "      <td>1</td>\n",
       "      <td>1</td>\n",
       "      <td>1</td>\n",
       "      <td>1</td>\n",
       "    </tr>\n",
       "    <tr>\n",
       "      <th>Predicted Admission status</th>\n",
       "      <td>0</td>\n",
       "      <td>0</td>\n",
       "      <td>0</td>\n",
       "      <td>1</td>\n",
       "      <td>1</td>\n",
       "      <td>0</td>\n",
       "      <td>1</td>\n",
       "      <td>0</td>\n",
       "      <td>1</td>\n",
       "      <td>1</td>\n",
       "      <td>...</td>\n",
       "      <td>1</td>\n",
       "      <td>1</td>\n",
       "      <td>0</td>\n",
       "      <td>1</td>\n",
       "      <td>1</td>\n",
       "      <td>1</td>\n",
       "      <td>1</td>\n",
       "      <td>1</td>\n",
       "      <td>0</td>\n",
       "      <td>1</td>\n",
       "    </tr>\n",
       "  </tbody>\n",
       "</table>\n",
       "<p>2 rows × 100 columns</p>\n",
       "</div>"
      ],
      "text/plain": [
       "                            0   1   2   3   4   5   6   7   8   9   ...  90  \\\n",
       "Admission status             0   0   0   1   1   0   1   1   1   1  ...   1   \n",
       "Predicted Admission status   0   0   0   1   1   0   1   0   1   1  ...   1   \n",
       "\n",
       "                            91  92  93  94  95  96  97  98  99  \n",
       "Admission status             1   0   1   1   1   1   1   1   1  \n",
       "Predicted Admission status   1   0   1   1   1   1   1   0   1  \n",
       "\n",
       "[2 rows x 100 columns]"
      ]
     },
     "execution_count": 17,
     "metadata": {},
     "output_type": "execute_result"
    }
   ],
   "source": [
    "predictedValue = pd.DataFrame(predict(theta, X), columns=['Predicted Admission status']) # Create new dataframe of column'Predicted Price'\n",
    "actualAdmissionStatus = pd.DataFrame(y, columns=['Admission status'])\n",
    "df_actual_vs_predicted = pd.concat([actualAdmissionStatus,predictedValue],axis =1)\n",
    "df_actual_vs_predicted.T"
   ]
  },
  {
   "cell_type": "code",
   "execution_count": 18,
   "id": "a3a3870d",
   "metadata": {},
   "outputs": [
    {
     "name": "stdout",
     "output_type": "stream",
     "text": [
      "Accuracy: 89.0\n"
     ]
    }
   ],
   "source": [
    "p = predict(theta, X)\n",
    "print ('Accuracy:', np.mean(p == y) * 100 )"
   ]
  },
  {
   "cell_type": "code",
   "execution_count": null,
   "id": "768e811d",
   "metadata": {},
   "outputs": [],
   "source": []
  }
 ],
 "metadata": {
  "kernelspec": {
   "display_name": "Python 3",
   "language": "python",
   "name": "python3"
  },
  "language_info": {
   "codemirror_mode": {
    "name": "ipython",
    "version": 3
   },
   "file_extension": ".py",
   "mimetype": "text/x-python",
   "name": "python",
   "nbconvert_exporter": "python",
   "pygments_lexer": "ipython3",
   "version": "3.8.8"
  }
 },
 "nbformat": 4,
 "nbformat_minor": 5
}
