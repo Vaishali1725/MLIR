{
 "cells": [
  {
   "cell_type": "code",
   "execution_count": 18,
   "id": "7795f556",
   "metadata": {},
   "outputs": [],
   "source": [
    "import pandas as pd"
   ]
  },
  {
   "cell_type": "code",
   "execution_count": 19,
   "id": "6a7827f1",
   "metadata": {},
   "outputs": [],
   "source": [
    "df = pd.DataFrame({'Temperature': ['Cool', 'Mild', 'Cool', 'Mild', 'Cool', 'Hot','Mild','Mild','Hot','Cool'],\n",
    "                     'Humidity': ['Normal', 'Normal', 'High', 'Moderate', 'High', 'High','Normal','Moderate','High','Moderate'],\n",
    "                     'Wind': ['Strong', 'Weak', 'Strong', 'Weak', 'Strong', 'Strong','Strong','Weak','Weak','Weak'],\n",
    "                     'Play': ['Y', 'Y', 'Y', 'N', 'N', 'N','Y','Y','N','Y']})"
   ]
  },
  {
   "cell_type": "code",
   "execution_count": 20,
   "id": "24269c69",
   "metadata": {},
   "outputs": [],
   "source": [
    "P_Play = df.groupby('Play').count()['Wind'] / len(df)"
   ]
  },
  {
   "cell_type": "code",
   "execution_count": 21,
   "id": "81e4b6e0",
   "metadata": {},
   "outputs": [
    {
     "name": "stdout",
     "output_type": "stream",
     "text": [
      "Play\n",
      "N    0.4\n",
      "Y    0.6\n",
      "Name: Wind, dtype: float64\n"
     ]
    }
   ],
   "source": [
    "print(P_Play)"
   ]
  },
  {
   "cell_type": "code",
   "execution_count": 22,
   "id": "a5e6947e",
   "metadata": {},
   "outputs": [],
   "source": [
    "mux = pd.MultiIndex.from_product([df['Play'].unique(), df['Temperature'].unique()])\n",
    "P_Play_Temp = (df.groupby(['Play', 'Temperature']).count() / df.groupby('Play').count())['Wind']\n",
    "P_Play_Temp = P_Play_Temp.reindex(mux, fill_value=0)"
   ]
  },
  {
   "cell_type": "code",
   "execution_count": 23,
   "id": "80830634",
   "metadata": {},
   "outputs": [
    {
     "name": "stdout",
     "output_type": "stream",
     "text": [
      "Y  Cool    0.50\n",
      "   Mild    0.50\n",
      "   Hot     0.00\n",
      "N  Cool    0.25\n",
      "   Mild    0.25\n",
      "   Hot     0.50\n",
      "Name: Wind, dtype: float64\n"
     ]
    }
   ],
   "source": [
    "print(P_Play_Temp)"
   ]
  },
  {
   "cell_type": "code",
   "execution_count": 24,
   "id": "49e6d5ab",
   "metadata": {},
   "outputs": [],
   "source": [
    "mux = pd.MultiIndex.from_product([df['Play'].unique(), df['Wind'].unique()])\n",
    "P_Play_Wind = (df.groupby(['Play', 'Wind']).count() / df.groupby('Play').count())['Humidity']\n",
    "P_Play_Wind = P_Play_Wind.reindex(mux, fill_value=0)"
   ]
  },
  {
   "cell_type": "code",
   "execution_count": 25,
   "id": "5c7e4fd3",
   "metadata": {},
   "outputs": [
    {
     "name": "stdout",
     "output_type": "stream",
     "text": [
      "Y  Strong    0.5\n",
      "   Weak      0.5\n",
      "N  Strong    0.5\n",
      "   Weak      0.5\n",
      "Name: Humidity, dtype: float64\n"
     ]
    }
   ],
   "source": [
    "print(P_Play_Wind)"
   ]
  },
  {
   "cell_type": "code",
   "execution_count": 26,
   "id": "90047002",
   "metadata": {},
   "outputs": [],
   "source": [
    "mux = pd.MultiIndex.from_product([df['Play'].unique(), df['Humidity'].unique()])\n",
    "P_Play_Hum = (df.groupby(['Play', 'Humidity']).count() / df.groupby('Play').count())['Wind']\n",
    "P_Play_Hum = P_Play_Hum.reindex(mux, fill_value=0)"
   ]
  },
  {
   "cell_type": "code",
   "execution_count": 27,
   "id": "cd78337c",
   "metadata": {},
   "outputs": [
    {
     "name": "stdout",
     "output_type": "stream",
     "text": [
      "Y  Normal      0.500000\n",
      "   High        0.166667\n",
      "   Moderate    0.333333\n",
      "N  Normal      0.000000\n",
      "   High        0.750000\n",
      "   Moderate    0.250000\n",
      "Name: Wind, dtype: float64\n"
     ]
    }
   ],
   "source": [
    "print(P_Play_Hum)"
   ]
  },
  {
   "cell_type": "code",
   "execution_count": 28,
   "id": "6430f16b",
   "metadata": {},
   "outputs": [
    {
     "data": {
      "text/plain": [
       "0.5"
      ]
     },
     "execution_count": 28,
     "metadata": {},
     "output_type": "execute_result"
    }
   ],
   "source": [
    "P_Play_Hum.iloc[0]"
   ]
  },
  {
   "cell_type": "code",
   "execution_count": 29,
   "id": "626b3aea",
   "metadata": {},
   "outputs": [
    {
     "name": "stdout",
     "output_type": "stream",
     "text": [
      "Enter Value of features for a day separated by : Mild:High:Weak\n",
      "['Mild', 'High', 'Weak']\n"
     ]
    }
   ],
   "source": [
    "val=input(\"Enter Value of features for a day separated by : \")\n",
    "feature=val.split(\":\")\n",
    "print(feature)"
   ]
  },
  {
   "cell_type": "code",
   "execution_count": 30,
   "id": "dbe4d0cd",
   "metadata": {},
   "outputs": [],
   "source": [
    "P_Play_Yes=1\n",
    "P_Play_No=1\n",
    "if(feature[0] == \"Mild\"):\n",
    "    if(feature[1] == \"High\"):\n",
    "        if(feature[2] == \"Strong\"):\n",
    "            P_Play_Yes=P_Play_Yes*P_Play.iloc[1]*P_Play_Temp.iloc[1]*P_Play_Hum.iloc[1]*P_Play_Wind.iloc[0]\n",
    "            P_Play_No=P_Play_No*P_Play.iloc[1]*P_Play_Temp.iloc[4]*P_Play_Hum.iloc[4]*P_Play_Wind.iloc[2]\n",
    "        elif(feature[2] == \"Weak\"):\n",
    "            P_Play_Yes=P_Play_Yes*P_Play.iloc[1]*P_Play_Temp.iloc[1]*P_Play_Hum.iloc[1]*P_Play_Wind.iloc[1]\n",
    "            P_Play_No=P_Play_No*P_Play.iloc[1]*P_Play_Temp.iloc[4]*P_Play_Hum.iloc[4]*P_Play_Wind.iloc[3]\n",
    "    elif(feature[1] == \"Normal\"):\n",
    "        if(feature[2] == \"Strong\"):\n",
    "            P_Play_Yes=P_Play_Yes*P_Play.iloc[1]*P_Play_Temp.iloc[1]*P_Play_Hum.iloc[0]*P_Play_Wind.iloc[0]\n",
    "            P_Play_No=P_Play_No*P_Play.iloc[1]*P_Play_Temp.iloc[4]*P_Play_Hum.iloc[3]*P_Play_Wind.iloc[2]\n",
    "        elif(feature[2] == \"Weak\"):\n",
    "            P_Play_Yes=P_Play_Yes*P_Play.iloc[1]*P_Play_Temp.iloc[1]*P_Play_Hum.iloc[0]*P_Play_Wind.iloc[1]\n",
    "            P_Play_No=P_Play_No*P_Play.iloc[1]*P_Play_Temp.iloc[4]*P_Play_Hum.iloc[3]*P_Play_Wind.iloc[3]\n",
    "    elif(feature[1] == \"Moderate\"):\n",
    "        if(feature[2] == \"Strong\"):\n",
    "            P_Play_Yes=P_Play_Yes*P_Play.iloc[1]*P_Play_Temp.iloc[1]*P_Play_Hum.iloc[2]*P_Play_Wind.iloc[0]\n",
    "            P_Play_No=P_Play_No*P_Play.iloc[1]*P_Play_Temp.iloc[4]*P_Play_Hum.iloc[5]*P_Play_Wind.iloc[2]\n",
    "        elif(feature[2] == \"Weak\"):\n",
    "            P_Play_Yes=P_Play_Yes*P_Play.iloc[1]*P_Play_Temp.iloc[1]*P_Play_Hum.iloc[2]*P_Play_Wind.iloc[1]\n",
    "            P_Play_No=P_Play_No*P_Play.iloc[1]*P_Play_Temp.iloc[4]*P_Play_Hum.iloc[5]*P_Play_Wind.iloc[3]\n",
    "elif(feature[0] == \"Cool\"):\n",
    "    if(feature[1] == \"High\"):\n",
    "        if(feature[2] == \"Strong\"):\n",
    "            P_Play_Yes=P_Play_Yes*P_Play.iloc[1]*P_Play_Temp.iloc[0]*P_Play_Hum.iloc[1]*P_Play_Wind.iloc[0]\n",
    "            P_Play_No=P_Play_No*P_Play.iloc[1]*P_Play_Temp.iloc[3]*P_Play_Hum.iloc[4]*P_Play_Wind.iloc[2]\n",
    "        elif(feature[2] == \"Weak\"):\n",
    "            P_Play_Yes=P_Play_Yes*P_Play.iloc[1]*P_Play_Temp.iloc[0]*P_Play_Hum.iloc[1]*P_Play_Wind.iloc[1]\n",
    "            P_Play_No=P_Play_No*P_Play.iloc[1]*P_Play_Temp.iloc[3]*P_Play_Hum.iloc[4]*P_Play_Wind.iloc[3]\n",
    "    elif(feature[1] == \"Normal\"):\n",
    "        if(feature[2] == \"Strong\"):\n",
    "            P_Play_Yes=P_Play_Yes*P_Play.iloc[1]*P_Play_Temp.iloc[0]*P_Play_Hum.iloc[0]*P_Play_Wind.iloc[0]\n",
    "            P_Play_No=P_Play_No*P_Play.iloc[1]*P_Play_Temp.iloc[3]*P_Play_Hum.iloc[3]*P_Play_Wind.iloc[2]\n",
    "        elif(feature[2] == \"Weak\"):\n",
    "            P_Play_Yes=P_Play_Yes*P_Play.iloc[1]*P_Play_Temp.iloc[0]*P_Play_Hum.iloc[0]*P_Play_Wind.iloc[1]\n",
    "            P_Play_No=P_Play_No*P_Play.iloc[1]*P_Play_Temp.iloc[3]*P_Play_Hum.iloc[3]*P_Play_Wind.iloc[3]\n",
    "    elif(feature[1] == \"Moderate\"):\n",
    "        if(feature[2] == \"Strong\"):\n",
    "            P_Play_Yes=P_Play_Yes*P_Play.iloc[1]*P_Play_Temp.iloc[0]*P_Play_Hum.iloc[2]*P_Play_Wind.iloc[0]\n",
    "            P_Play_No=P_Play_No*P_Play.iloc[1]*P_Play_Temp.iloc[3]*P_Play_Hum.iloc[5]*P_Play_Wind.iloc[2]\n",
    "        elif(feature[2] == \"Weak\"):\n",
    "            P_Play_Yes=P_Play_Yes*P_Play.iloc[1]*P_Play_Temp.iloc[0]*P_Play_Hum.iloc[2]*P_Play_Wind.iloc[1]\n",
    "            P_Play_No=P_Play_No*P_Play.iloc[1]*P_Play_Temp.iloc[3]*P_Play_Hum.iloc[5]*P_Play_Wind.iloc[3]\n",
    "elif(feature[0] == \"Hot\"):\n",
    "    if(feature[1] == \"High\"):\n",
    "        if(feature[2] == \"Strong\"):\n",
    "            P_Play_Yes=P_Play_Yes*P_Play.iloc[1]*P_Play_Temp.iloc[2]*P_Play_Hum.iloc[1]*P_Play_Wind.iloc[0]\n",
    "            P_Play_No=P_Play_No*P_Play.iloc[1]*P_Play_Temp.iloc[5]*P_Play_Hum.iloc[4]*P_Play_Wind.iloc[2]\n",
    "        elif(feature[2] == \"Weak\"):\n",
    "            P_Play_Yes=P_Play_Yes*P_Play.iloc[1]*P_Play_Temp.iloc[2]*P_Play_Hum.iloc[1]*P_Play_Wind.iloc[1]\n",
    "            P_Play_No=P_Play_No*P_Play.iloc[1]*P_Play_Temp.iloc[5]*P_Play_Hum.iloc[4]*P_Play_Wind.iloc[3]\n",
    "    elif(feature[1] == \"Normal\"):\n",
    "        if(feature[2] == \"Strong\"):\n",
    "            P_Play_Yes=P_Play_Yes*P_Play.iloc[1]*P_Play_Temp.iloc[2]*P_Play_Hum.iloc[0]*P_Play_Wind.iloc[0]\n",
    "            P_Play_No=P_Play_No*P_Play.iloc[1]*P_Play_Temp.iloc[5]*P_Play_Hum.iloc[3]*P_Play_Wind.iloc[2]\n",
    "        elif(feature[2] == \"Weak\"):\n",
    "            P_Play_Yes=P_Play_Yes*P_Play.iloc[1]*P_Play_Temp.iloc[2]*P_Play_Hum.iloc[0]*P_Play_Wind.iloc[1]\n",
    "            P_Play_No=P_Play_No*P_Play.iloc[1]*P_Play_Temp.iloc[5]*P_Play_Hum.iloc[3]*P_Play_Wind.iloc[3]\n",
    "    elif(feature[1] == \"Moderate\"):\n",
    "        if(feature[2] == \"Strong\"):\n",
    "            P_Play_Yes=P_Play_Yes*P_Play.iloc[1]*P_Play_Temp.iloc[2]*P_Play_Hum.iloc[2]*P_Play_Wind.iloc[0]\n",
    "            P_Play_No=P_Play_No*P_Play.iloc[1]*P_Play_Temp.iloc[5]*P_Play_Hum.iloc[5]*P_Play_Wind.iloc[2]\n",
    "        elif(feature[2] == \"Weak\"):\n",
    "            P_Play_Yes=P_Play_Yes*P_Play.iloc[1]*P_Play_Temp.iloc[2]*P_Play_Hum.iloc[2]*P_Play_Wind.iloc[1]\n",
    "            P_Play_No=P_Play_No*P_Play.iloc[1]*P_Play_Temp.iloc[5]*P_Play_Hum.iloc[5]*P_Play_Wind.iloc[3]"
   ]
  },
  {
   "cell_type": "code",
   "execution_count": 31,
   "id": "af83c7e8",
   "metadata": {},
   "outputs": [
    {
     "name": "stdout",
     "output_type": "stream",
     "text": [
      "Predicted Value for Play = No\n"
     ]
    }
   ],
   "source": [
    "if(P_Play_Yes > P_Play_No):\n",
    "    print(\"Predicted Value for Play = Yes\")\n",
    "else:\n",
    "    print(\"Predicted Value for Play = No\")\n"
   ]
  },
  {
   "cell_type": "code",
   "execution_count": null,
   "id": "081fa689",
   "metadata": {},
   "outputs": [],
   "source": []
  }
 ],
 "metadata": {
  "kernelspec": {
   "display_name": "Python 3",
   "language": "python",
   "name": "python3"
  },
  "language_info": {
   "codemirror_mode": {
    "name": "ipython",
    "version": 3
   },
   "file_extension": ".py",
   "mimetype": "text/x-python",
   "name": "python",
   "nbconvert_exporter": "python",
   "pygments_lexer": "ipython3",
   "version": "3.8.8"
  }
 },
 "nbformat": 4,
 "nbformat_minor": 5
}
