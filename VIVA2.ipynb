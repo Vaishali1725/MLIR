{
 "cells": [
  {
   "cell_type": "code",
   "execution_count": 1,
   "id": "4459bbde",
   "metadata": {},
   "outputs": [],
   "source": [
    "import numpy as np\n",
    "import pandas as pd"
   ]
  },
  {
   "cell_type": "markdown",
   "id": "04a5a7e6",
   "metadata": {},
   "source": [
    "Dataset ( 10 datasamples, 2 features)"
   ]
  },
  {
   "cell_type": "code",
   "execution_count": 2,
   "id": "9d1a8254",
   "metadata": {},
   "outputs": [],
   "source": [
    "A = np.matrix([[1,2],\n",
    "               [5,5],\n",
    "               [1,4],\n",
    "               [5,3],\n",
    "               [8,1],\n",
    "               [4,7],\n",
    "               [8,9],\n",
    "               [3,7],\n",
    "               [1,7],\n",
    "               [3,7]]);"
   ]
  },
  {
   "cell_type": "code",
   "execution_count": 3,
   "id": "38c2eca3",
   "metadata": {},
   "outputs": [
    {
     "data": {
      "text/html": [
       "<div>\n",
       "<style scoped>\n",
       "    .dataframe tbody tr th:only-of-type {\n",
       "        vertical-align: middle;\n",
       "    }\n",
       "\n",
       "    .dataframe tbody tr th {\n",
       "        vertical-align: top;\n",
       "    }\n",
       "\n",
       "    .dataframe thead th {\n",
       "        text-align: right;\n",
       "    }\n",
       "</style>\n",
       "<table border=\"1\" class=\"dataframe\">\n",
       "  <thead>\n",
       "    <tr style=\"text-align: right;\">\n",
       "      <th></th>\n",
       "      <th>f1</th>\n",
       "      <th>f2</th>\n",
       "    </tr>\n",
       "  </thead>\n",
       "  <tbody>\n",
       "    <tr>\n",
       "      <th>0</th>\n",
       "      <td>1</td>\n",
       "      <td>2</td>\n",
       "    </tr>\n",
       "    <tr>\n",
       "      <th>1</th>\n",
       "      <td>5</td>\n",
       "      <td>5</td>\n",
       "    </tr>\n",
       "    <tr>\n",
       "      <th>2</th>\n",
       "      <td>1</td>\n",
       "      <td>4</td>\n",
       "    </tr>\n",
       "    <tr>\n",
       "      <th>3</th>\n",
       "      <td>5</td>\n",
       "      <td>3</td>\n",
       "    </tr>\n",
       "    <tr>\n",
       "      <th>4</th>\n",
       "      <td>8</td>\n",
       "      <td>1</td>\n",
       "    </tr>\n",
       "    <tr>\n",
       "      <th>5</th>\n",
       "      <td>4</td>\n",
       "      <td>7</td>\n",
       "    </tr>\n",
       "    <tr>\n",
       "      <th>6</th>\n",
       "      <td>8</td>\n",
       "      <td>9</td>\n",
       "    </tr>\n",
       "    <tr>\n",
       "      <th>7</th>\n",
       "      <td>3</td>\n",
       "      <td>7</td>\n",
       "    </tr>\n",
       "    <tr>\n",
       "      <th>8</th>\n",
       "      <td>1</td>\n",
       "      <td>7</td>\n",
       "    </tr>\n",
       "    <tr>\n",
       "      <th>9</th>\n",
       "      <td>3</td>\n",
       "      <td>7</td>\n",
       "    </tr>\n",
       "  </tbody>\n",
       "</table>\n",
       "</div>"
      ],
      "text/plain": [
       "   f1  f2\n",
       "0   1   2\n",
       "1   5   5\n",
       "2   1   4\n",
       "3   5   3\n",
       "4   8   1\n",
       "5   4   7\n",
       "6   8   9\n",
       "7   3   7\n",
       "8   1   7\n",
       "9   3   7"
      ]
     },
     "execution_count": 3,
     "metadata": {},
     "output_type": "execute_result"
    }
   ],
   "source": [
    "df = pd.DataFrame(A,columns  = ['f1','f2'])\n",
    "df"
   ]
  },
  {
   "cell_type": "markdown",
   "id": "346afa37",
   "metadata": {},
   "source": [
    "Standardize Dataset"
   ]
  },
  {
   "cell_type": "code",
   "execution_count": 4,
   "id": "a22a8a1b",
   "metadata": {},
   "outputs": [
    {
     "data": {
      "text/html": [
       "<div>\n",
       "<style scoped>\n",
       "    .dataframe tbody tr th:only-of-type {\n",
       "        vertical-align: middle;\n",
       "    }\n",
       "\n",
       "    .dataframe tbody tr th {\n",
       "        vertical-align: top;\n",
       "    }\n",
       "\n",
       "    .dataframe thead th {\n",
       "        text-align: right;\n",
       "    }\n",
       "</style>\n",
       "<table border=\"1\" class=\"dataframe\">\n",
       "  <thead>\n",
       "    <tr style=\"text-align: right;\">\n",
       "      <th></th>\n",
       "      <th>f1</th>\n",
       "      <th>f2</th>\n",
       "    </tr>\n",
       "  </thead>\n",
       "  <tbody>\n",
       "    <tr>\n",
       "      <th>0</th>\n",
       "      <td>-1.096968</td>\n",
       "      <td>-1.223153</td>\n",
       "    </tr>\n",
       "    <tr>\n",
       "      <th>1</th>\n",
       "      <td>0.416091</td>\n",
       "      <td>-0.076447</td>\n",
       "    </tr>\n",
       "    <tr>\n",
       "      <th>2</th>\n",
       "      <td>-1.096968</td>\n",
       "      <td>-0.458682</td>\n",
       "    </tr>\n",
       "    <tr>\n",
       "      <th>3</th>\n",
       "      <td>0.416091</td>\n",
       "      <td>-0.840918</td>\n",
       "    </tr>\n",
       "    <tr>\n",
       "      <th>4</th>\n",
       "      <td>1.550886</td>\n",
       "      <td>-1.605389</td>\n",
       "    </tr>\n",
       "    <tr>\n",
       "      <th>5</th>\n",
       "      <td>0.037826</td>\n",
       "      <td>0.688024</td>\n",
       "    </tr>\n",
       "    <tr>\n",
       "      <th>6</th>\n",
       "      <td>1.550886</td>\n",
       "      <td>1.452494</td>\n",
       "    </tr>\n",
       "    <tr>\n",
       "      <th>7</th>\n",
       "      <td>-0.340438</td>\n",
       "      <td>0.688024</td>\n",
       "    </tr>\n",
       "    <tr>\n",
       "      <th>8</th>\n",
       "      <td>-1.096968</td>\n",
       "      <td>0.688024</td>\n",
       "    </tr>\n",
       "    <tr>\n",
       "      <th>9</th>\n",
       "      <td>-0.340438</td>\n",
       "      <td>0.688024</td>\n",
       "    </tr>\n",
       "  </tbody>\n",
       "</table>\n",
       "</div>"
      ],
      "text/plain": [
       "         f1        f2\n",
       "0 -1.096968 -1.223153\n",
       "1  0.416091 -0.076447\n",
       "2 -1.096968 -0.458682\n",
       "3  0.416091 -0.840918\n",
       "4  1.550886 -1.605389\n",
       "5  0.037826  0.688024\n",
       "6  1.550886  1.452494\n",
       "7 -0.340438  0.688024\n",
       "8 -1.096968  0.688024\n",
       "9 -0.340438  0.688024"
      ]
     },
     "execution_count": 4,
     "metadata": {},
     "output_type": "execute_result"
    }
   ],
   "source": [
    "df_std  = (df - df.mean()) / (df.std())\n",
    "df_std"
   ]
  },
  {
   "cell_type": "markdown",
   "id": "6ac2c8d1",
   "metadata": {},
   "source": [
    "Covariance population formula (divide by N)"
   ]
  },
  {
   "cell_type": "code",
   "execution_count": 5,
   "id": "70b9dfdb",
   "metadata": {},
   "outputs": [
    {
     "data": {
      "text/plain": [
       "array([[0.9       , 0.00289172],\n",
       "       [0.00289172, 0.9       ]])"
      ]
     },
     "execution_count": 5,
     "metadata": {},
     "output_type": "execute_result"
    }
   ],
   "source": [
    "df_cov = np.cov(df_std.T, bias = 1)\n",
    "df_cov"
   ]
  },
  {
   "cell_type": "markdown",
   "id": "7e152af8",
   "metadata": {},
   "source": [
    "Covariance sample formula (divide by N-1)"
   ]
  },
  {
   "cell_type": "code",
   "execution_count": 6,
   "id": "fef6e1ce",
   "metadata": {},
   "outputs": [
    {
     "data": {
      "text/plain": [
       "array([[1.        , 0.00321303],\n",
       "       [0.00321303, 1.        ]])"
      ]
     },
     "execution_count": 6,
     "metadata": {},
     "output_type": "execute_result"
    }
   ],
   "source": [
    "cov_mat = np.cov(df_std.T, bias = 0)\n",
    "cov_mat"
   ]
  },
  {
   "cell_type": "code",
   "execution_count": 7,
   "id": "35488a06",
   "metadata": {},
   "outputs": [
    {
     "name": "stdout",
     "output_type": "stream",
     "text": [
      "var(f1) (population formula):  1.8000000000000003\n",
      "var(f1) (sample formula):  2.2500000000000004\n"
     ]
    }
   ],
   "source": [
    "## verify varinace(f1) is as expected\n",
    "print('var(f1) (population formula): ',((df_std.f1)**2).sum()/5)\n",
    "print('var(f1) (sample formula): ',((df_std.f1)**2).sum()/4)"
   ]
  },
  {
   "cell_type": "code",
   "execution_count": 8,
   "id": "5bea185d",
   "metadata": {},
   "outputs": [
    {
     "name": "stdout",
     "output_type": "stream",
     "text": [
      "var(f1) (population formula):  1.8000000000000003\n",
      "var(f1) (sample formula):  2.2500000000000004\n"
     ]
    }
   ],
   "source": [
    "## verify varinace(f1) is as expected\n",
    "print('var(f1) (population formula): ',((df_std.f1)**2).sum()/5)\n",
    "print('var(f1) (sample formula): ',((df_std.f1)**2).sum()/4)"
   ]
  },
  {
   "cell_type": "markdown",
   "id": "5ce9c487",
   "metadata": {},
   "source": [
    "Calculate Eigenvalue and eigen vector"
   ]
  },
  {
   "cell_type": "code",
   "execution_count": 9,
   "id": "ee1668d0",
   "metadata": {},
   "outputs": [],
   "source": [
    "eigen_val, eigen_vectors = np.linalg.eig(cov_mat)"
   ]
  },
  {
   "cell_type": "code",
   "execution_count": 10,
   "id": "2e84e333",
   "metadata": {},
   "outputs": [
    {
     "name": "stdout",
     "output_type": "stream",
     "text": [
      "[1.00321303 0.99678697]\n"
     ]
    }
   ],
   "source": [
    "print(eigen_val)"
   ]
  },
  {
   "cell_type": "code",
   "execution_count": 11,
   "id": "566f0238",
   "metadata": {},
   "outputs": [
    {
     "name": "stdout",
     "output_type": "stream",
     "text": [
      "[[ 0.70710678 -0.70710678]\n",
      " [ 0.70710678  0.70710678]]\n"
     ]
    }
   ],
   "source": [
    "print(eigen_vectors)"
   ]
  },
  {
   "cell_type": "markdown",
   "id": "d347d71f",
   "metadata": {},
   "source": [
    "Sort the eigen values and their correspoding eigen vectors"
   ]
  },
  {
   "cell_type": "code",
   "execution_count": 12,
   "id": "07756976",
   "metadata": {},
   "outputs": [],
   "source": [
    "n_components=1"
   ]
  },
  {
   "cell_type": "markdown",
   "id": "95ca916a",
   "metadata": {},
   "source": [
    "Pick top k (n_components) eigen values and their corresponding eigen vectors"
   ]
  },
  {
   "cell_type": "code",
   "execution_count": 13,
   "id": "f3436061",
   "metadata": {},
   "outputs": [],
   "source": [
    "top_eigen_vectors = eigen_vectors[:,:n_components]"
   ]
  },
  {
   "cell_type": "code",
   "execution_count": 14,
   "id": "44f43cb8",
   "metadata": {},
   "outputs": [
    {
     "data": {
      "text/plain": [
       "array([[0.70710678],\n",
       "       [0.70710678]])"
      ]
     },
     "execution_count": 14,
     "metadata": {},
     "output_type": "execute_result"
    }
   ],
   "source": [
    "top_eigen_vectors"
   ]
  },
  {
   "cell_type": "code",
   "execution_count": 15,
   "id": "e92b7011",
   "metadata": {},
   "outputs": [
    {
     "data": {
      "text/plain": [
       "(2, 1)"
      ]
     },
     "execution_count": 15,
     "metadata": {},
     "output_type": "execute_result"
    }
   ],
   "source": [
    "top_eigen_vectors.shape"
   ]
  },
  {
   "cell_type": "code",
   "execution_count": 16,
   "id": "5f311f98",
   "metadata": {},
   "outputs": [
    {
     "data": {
      "text/plain": [
       "(10, 2)"
      ]
     },
     "execution_count": 16,
     "metadata": {},
     "output_type": "execute_result"
    }
   ],
   "source": [
    "np.array(df_std).shape"
   ]
  },
  {
   "cell_type": "markdown",
   "id": "b282619f",
   "metadata": {},
   "source": [
    "Transform the original matrix."
   ]
  },
  {
   "cell_type": "code",
   "execution_count": 17,
   "id": "41a2e114",
   "metadata": {},
   "outputs": [],
   "source": [
    "transformed_data = np.matmul(np.array(df_std),top_eigen_vectors)"
   ]
  },
  {
   "cell_type": "code",
   "execution_count": 18,
   "id": "3f3245b3",
   "metadata": {},
   "outputs": [
    {
     "data": {
      "text/html": [
       "<div>\n",
       "<style scoped>\n",
       "    .dataframe tbody tr th:only-of-type {\n",
       "        vertical-align: middle;\n",
       "    }\n",
       "\n",
       "    .dataframe tbody tr th {\n",
       "        vertical-align: top;\n",
       "    }\n",
       "\n",
       "    .dataframe thead th {\n",
       "        text-align: right;\n",
       "    }\n",
       "</style>\n",
       "<table border=\"1\" class=\"dataframe\">\n",
       "  <thead>\n",
       "    <tr style=\"text-align: right;\">\n",
       "      <th></th>\n",
       "      <th>principal component 1</th>\n",
       "    </tr>\n",
       "  </thead>\n",
       "  <tbody>\n",
       "    <tr>\n",
       "      <th>0</th>\n",
       "      <td>-1.640573</td>\n",
       "    </tr>\n",
       "    <tr>\n",
       "      <th>1</th>\n",
       "      <td>0.240165</td>\n",
       "    </tr>\n",
       "    <tr>\n",
       "      <th>2</th>\n",
       "      <td>-1.100011</td>\n",
       "    </tr>\n",
       "    <tr>\n",
       "      <th>3</th>\n",
       "      <td>-0.300398</td>\n",
       "    </tr>\n",
       "    <tr>\n",
       "      <th>4</th>\n",
       "      <td>-0.038539</td>\n",
       "    </tr>\n",
       "    <tr>\n",
       "      <th>5</th>\n",
       "      <td>0.513254</td>\n",
       "    </tr>\n",
       "    <tr>\n",
       "      <th>6</th>\n",
       "      <td>2.123710</td>\n",
       "    </tr>\n",
       "    <tr>\n",
       "      <th>7</th>\n",
       "      <td>0.245780</td>\n",
       "    </tr>\n",
       "    <tr>\n",
       "      <th>8</th>\n",
       "      <td>-0.289167</td>\n",
       "    </tr>\n",
       "    <tr>\n",
       "      <th>9</th>\n",
       "      <td>0.245780</td>\n",
       "    </tr>\n",
       "  </tbody>\n",
       "</table>\n",
       "</div>"
      ],
      "text/plain": [
       "   principal component 1\n",
       "0              -1.640573\n",
       "1               0.240165\n",
       "2              -1.100011\n",
       "3              -0.300398\n",
       "4              -0.038539\n",
       "5               0.513254\n",
       "6               2.123710\n",
       "7               0.245780\n",
       "8              -0.289167\n",
       "9               0.245780"
      ]
     },
     "execution_count": 18,
     "metadata": {},
     "output_type": "execute_result"
    }
   ],
   "source": [
    "pd.DataFrame(data = transformed_data\n",
    "             , columns = ['principal component '+ str(i+1) for i in range(n_components)])"
   ]
  },
  {
   "cell_type": "code",
   "execution_count": 19,
   "id": "4680f9d5",
   "metadata": {},
   "outputs": [
    {
     "data": {
      "text/plain": [
       "(10, 1)"
      ]
     },
     "execution_count": 19,
     "metadata": {},
     "output_type": "execute_result"
    }
   ],
   "source": [
    "transformed_data.shape"
   ]
  },
  {
   "cell_type": "markdown",
   "id": "52bb7935",
   "metadata": {},
   "source": [
    "Result using the Sklearn library"
   ]
  },
  {
   "cell_type": "code",
   "execution_count": 20,
   "id": "ac63cd21",
   "metadata": {},
   "outputs": [],
   "source": [
    "from sklearn.decomposition import PCA\n",
    "pca = PCA(n_components=n_components)\n",
    "principalComponents = pca.fit_transform(df_std)\n",
    "principalDf = pd.DataFrame(data = principalComponents\n",
    "             , columns = ['principal component '+ str(i+1) for i in range(n_components)])"
   ]
  },
  {
   "cell_type": "code",
   "execution_count": 21,
   "id": "8e1fdbea",
   "metadata": {},
   "outputs": [
    {
     "data": {
      "text/html": [
       "<div>\n",
       "<style scoped>\n",
       "    .dataframe tbody tr th:only-of-type {\n",
       "        vertical-align: middle;\n",
       "    }\n",
       "\n",
       "    .dataframe tbody tr th {\n",
       "        vertical-align: top;\n",
       "    }\n",
       "\n",
       "    .dataframe thead th {\n",
       "        text-align: right;\n",
       "    }\n",
       "</style>\n",
       "<table border=\"1\" class=\"dataframe\">\n",
       "  <thead>\n",
       "    <tr style=\"text-align: right;\">\n",
       "      <th></th>\n",
       "      <th>principal component 1</th>\n",
       "    </tr>\n",
       "  </thead>\n",
       "  <tbody>\n",
       "    <tr>\n",
       "      <th>0</th>\n",
       "      <td>-1.640573</td>\n",
       "    </tr>\n",
       "    <tr>\n",
       "      <th>1</th>\n",
       "      <td>0.240165</td>\n",
       "    </tr>\n",
       "    <tr>\n",
       "      <th>2</th>\n",
       "      <td>-1.100011</td>\n",
       "    </tr>\n",
       "    <tr>\n",
       "      <th>3</th>\n",
       "      <td>-0.300398</td>\n",
       "    </tr>\n",
       "    <tr>\n",
       "      <th>4</th>\n",
       "      <td>-0.038539</td>\n",
       "    </tr>\n",
       "    <tr>\n",
       "      <th>5</th>\n",
       "      <td>0.513254</td>\n",
       "    </tr>\n",
       "    <tr>\n",
       "      <th>6</th>\n",
       "      <td>2.123710</td>\n",
       "    </tr>\n",
       "    <tr>\n",
       "      <th>7</th>\n",
       "      <td>0.245780</td>\n",
       "    </tr>\n",
       "    <tr>\n",
       "      <th>8</th>\n",
       "      <td>-0.289167</td>\n",
       "    </tr>\n",
       "    <tr>\n",
       "      <th>9</th>\n",
       "      <td>0.245780</td>\n",
       "    </tr>\n",
       "  </tbody>\n",
       "</table>\n",
       "</div>"
      ],
      "text/plain": [
       "   principal component 1\n",
       "0              -1.640573\n",
       "1               0.240165\n",
       "2              -1.100011\n",
       "3              -0.300398\n",
       "4              -0.038539\n",
       "5               0.513254\n",
       "6               2.123710\n",
       "7               0.245780\n",
       "8              -0.289167\n",
       "9               0.245780"
      ]
     },
     "execution_count": 21,
     "metadata": {},
     "output_type": "execute_result"
    }
   ],
   "source": [
    "principalDf"
   ]
  },
  {
   "cell_type": "code",
   "execution_count": null,
   "id": "08791c2f",
   "metadata": {},
   "outputs": [],
   "source": []
  }
 ],
 "metadata": {
  "kernelspec": {
   "display_name": "Python 3",
   "language": "python",
   "name": "python3"
  },
  "language_info": {
   "codemirror_mode": {
    "name": "ipython",
    "version": 3
   },
   "file_extension": ".py",
   "mimetype": "text/x-python",
   "name": "python",
   "nbconvert_exporter": "python",
   "pygments_lexer": "ipython3",
   "version": "3.8.8"
  }
 },
 "nbformat": 4,
 "nbformat_minor": 5
}
