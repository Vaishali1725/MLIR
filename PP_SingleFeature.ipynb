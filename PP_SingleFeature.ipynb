{
 "cells": [
  {
   "cell_type": "code",
   "execution_count": 12,
   "id": "d60d24d6",
   "metadata": {},
   "outputs": [],
   "source": [
    "import array\n",
    "import sys\n",
    "import math"
   ]
  },
  {
   "cell_type": "code",
   "execution_count": 13,
   "id": "ecc23325",
   "metadata": {},
   "outputs": [],
   "source": [
    "list1 = [\"NLP\",\"MC\",\"MC\",\"NLP\",\"NWS\",\"NWS\",\"NLP\",\"MC\",\"MC\",\"NLP\"]\n",
    "list2 = [\"Y\",\"N\",\"C\",\"Y\",\"Y\",\"N\",\"C\",\"Y\",\"N\",\"C\"]"
   ]
  },
  {
   "cell_type": "code",
   "execution_count": 14,
   "id": "3f8382c2",
   "metadata": {},
   "outputs": [],
   "source": [
    "countY=list2.count('Y')\n",
    "countN=list2.count('N')\n",
    "countC=list2.count('C')"
   ]
  },
  {
   "cell_type": "code",
   "execution_count": 15,
   "id": "176e5ea9",
   "metadata": {},
   "outputs": [],
   "source": [
    "X=countY+countN+countC\n",
    "P_Y=countY/X\n",
    "P_N=countN/X\n",
    "P_C=countC/X"
   ]
  },
  {
   "cell_type": "code",
   "execution_count": 16,
   "id": "2fdbdd2e",
   "metadata": {},
   "outputs": [
    {
     "name": "stdout",
     "output_type": "stream",
     "text": [
      "P(Y)= 0.4\n",
      "P(N)= 0.3\n",
      "P(C)= 0.3\n"
     ]
    }
   ],
   "source": [
    "print(\"P(Y)=\",P_Y)\n",
    "print(\"P(N)=\",P_N)\n",
    "print(\"P(C)=\",P_C)"
   ]
  },
  {
   "cell_type": "code",
   "execution_count": 17,
   "id": "8c185d32",
   "metadata": {},
   "outputs": [],
   "source": [
    "count_NLP_Y=0\n",
    "count_NLP_N=0\n",
    "count_NLP_C=0\n",
    "count_MC_Y=0\n",
    "count_MC_C=0\n",
    "count_MC_N=0\n",
    "count_NWS_Y=0\n",
    "count_NWS_C=0\n",
    "count_NWS_N=0\n",
    "\n",
    "\n",
    "for i in range(len(list1)):\n",
    "    if(list1[i] == \"NLP\" and list2[i] == \"Y\"):\n",
    "        count_NLP_Y=count_NLP_Y+1\n",
    "    elif(list1[i] == \"NLP\" and list2[i] == \"N\"):\n",
    "        count_NLP_N=count_NLP_N+1\n",
    "    elif(list1[i] == \"NLP\" and list2[i] == \"C\"):\n",
    "        count_NLP_C=count_NLP_C+1\n",
    "    elif(list1[i] == \"MC\" and list2[i] == \"N\"):\n",
    "        count_MC_N=count_MC_N+1\n",
    "    elif(list1[i] == \"MC\" and list2[i] == \"Y\"):\n",
    "        count_MC_Y=count_MC_Y+1\n",
    "    elif(list1[i] == \"MC\" and list2[i] == \"C\"):\n",
    "        count_MC_C=count_MC_C+1\n",
    "    elif(list1[i] == \"NWS\" and list2[i] == \"N\"):\n",
    "        count_NWS_N=count_NWS_N+1\n",
    "    elif(list1[i] == \"NWS\" and list2[i] == \"Y\"):\n",
    "        count_NWS_Y=count_NWS_Y+1\n",
    "    elif(list1[i] == \"NWS\" and list2[i] == \"C\"):\n",
    "        count_NWS_C=count_NWS_C+1"
   ]
  },
  {
   "cell_type": "code",
   "execution_count": 18,
   "id": "602b7a94",
   "metadata": {},
   "outputs": [],
   "source": [
    "P_NLP_Y=count_NLP_Y/countY\n",
    "P_NLP_N=count_NLP_N/countN\n",
    "P_NLP_C=count_NLP_C/countC\n",
    "P_MC_Y=count_MC_Y/countY\n",
    "P_MC_N=count_MC_N/countN\n",
    "P_MC_C=count_MC_C/countC\n",
    "P_NWS_Y=count_NWS_Y/countY\n",
    "P_NWS_N=count_NWS_N/countN\n",
    "P_NWS_C=count_NWS_C/countC"
   ]
  },
  {
   "cell_type": "code",
   "execution_count": 19,
   "id": "b38c6cd9",
   "metadata": {},
   "outputs": [
    {
     "name": "stdout",
     "output_type": "stream",
     "text": [
      "P(NLP/Y)= 0.5\n",
      "P(NLP/N)= 0.0\n",
      "P(NLP/C)= 0.6666666666666666\n",
      "P(MC/Y)= 0.25\n",
      "P(MC/N)= 0.6666666666666666\n",
      "P(MC/C)= 0.3333333333333333\n",
      "P(NWS/Y)= 0.25\n",
      "P(NWS/N)= 0.3333333333333333\n",
      "P(NWS/C)= 0.0\n"
     ]
    }
   ],
   "source": [
    "print(\"P(NLP/Y)=\",P_NLP_Y)\n",
    "print(\"P(NLP/N)=\",P_NLP_N)\n",
    "print(\"P(NLP/C)=\",P_NLP_C)\n",
    "print(\"P(MC/Y)=\",P_MC_Y)\n",
    "print(\"P(MC/N)=\",P_MC_N)\n",
    "print(\"P(MC/C)=\",P_MC_C)\n",
    "print(\"P(NWS/Y)=\",P_NWS_Y)\n",
    "print(\"P(NWS/N)=\",P_NWS_N)\n",
    "print(\"P(NWS/C)=\",P_NWS_C)"
   ]
  },
  {
   "cell_type": "code",
   "execution_count": 20,
   "id": "545f0e19",
   "metadata": {},
   "outputs": [
    {
     "name": "stdout",
     "output_type": "stream",
     "text": [
      "Enter Value MC/NLP/NWS : NWS\n"
     ]
    }
   ],
   "source": [
    "val=input(\"Enter Value MC/NLP/NWS : \")"
   ]
  },
  {
   "cell_type": "code",
   "execution_count": 21,
   "id": "048e9e7f",
   "metadata": {},
   "outputs": [],
   "source": [
    "if val == \"NLP\":\n",
    "    a=P_NLP_Y*P_Y\n",
    "    b=P_NLP_N*P_N\n",
    "    c=P_NLP_C*P_C\n",
    "elif val == \"NWS\":\n",
    "    a=P_NWS_Y*P_Y\n",
    "    b=P_NWS_N*P_N\n",
    "    c=P_NWS_C*P_C\n",
    "elif val == \"MC\":\n",
    "    a=P_MC_Y*P_Y\n",
    "    b=P_MC_N*P_N\n",
    "    c=P_MC_C*P_C\n",
    "    \n",
    "if (a > b) and (a > c):\n",
    "    predictedOutput=\"Y\"\n",
    "elif (b > a) and (b > c):\n",
    "    predictedOutput=\"N\"\n",
    "elif (c > a) and (c > b):\n",
    "    predictedOutput=\"C\""
   ]
  },
  {
   "cell_type": "code",
   "execution_count": 22,
   "id": "9dab9c19",
   "metadata": {},
   "outputs": [
    {
     "name": "stdout",
     "output_type": "stream",
     "text": [
      "Predicted Output :  Y\n"
     ]
    }
   ],
   "source": [
    "print(\"Predicted Output : \",predictedOutput)"
   ]
  },
  {
   "cell_type": "code",
   "execution_count": null,
   "id": "1622b632",
   "metadata": {},
   "outputs": [],
   "source": []
  }
 ],
 "metadata": {
  "kernelspec": {
   "display_name": "Python 3",
   "language": "python",
   "name": "python3"
  },
  "language_info": {
   "codemirror_mode": {
    "name": "ipython",
    "version": 3
   },
   "file_extension": ".py",
   "mimetype": "text/x-python",
   "name": "python",
   "nbconvert_exporter": "python",
   "pygments_lexer": "ipython3",
   "version": "3.8.8"
  }
 },
 "nbformat": 4,
 "nbformat_minor": 5
}
