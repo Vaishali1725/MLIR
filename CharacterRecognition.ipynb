{
 "cells": [
  {
   "cell_type": "raw",
   "id": "f5fd6b36",
   "metadata": {},
   "source": [
    "Val1=\"No of Straight Vertical lines\"\n",
    "Val2=\"No of horizontal lines\"\n",
    "Val3=\"No of Slant curve\"\n",
    "Val4=\"No of dots\"\n",
    "Val5=\"No of closed curve\"\n",
    "Val6=\"No for Shape\"\n",
    "     Shape={\"Triangle:1\",\n",
    "          \"Rectangle:2\",\n",
    "          \"Square:3\",\n",
    "          \"SemiCircle=4\",\n",
    "          \"Circle=5\",\n",
    "          \"Hemisphere=6\"\n",
    "          \"None=7\"}"
   ]
  },
  {
   "cell_type": "code",
   "execution_count": 1,
   "id": "23febe71",
   "metadata": {},
   "outputs": [],
   "source": [
    "import array\n",
    "import sys\n",
    "import math"
   ]
  },
  {
   "cell_type": "code",
   "execution_count": 2,
   "id": "502d9280",
   "metadata": {},
   "outputs": [],
   "source": [
    "hum={'A':[0,1,2,0,1,1],\n",
    "          'B':[1,3,0,0,2,4],\n",
    "          'C':[0,0,0,0,0,4],\n",
    "          'D': [1,2,0,0,1,6],\n",
    "          'E': [1,3,0,0,0,3],\n",
    "          'F': [1,2,0,0,0,3],\n",
    "          'G': [1,1,0,0,0,4],\n",
    "          'H': [2,1,0,0,0,2],\n",
    "          'I': [1,0,0,0,0,7],\n",
    "          'J': [1,1,0,0,0,4],\n",
    "          'K': [1,0,2,0,0,1],\n",
    "          'L': [1,1,0,0,0,7],\n",
    "          'M': [2,0,2,0,0,1],\n",
    "          'N': [2,0,1,0,0,1],\n",
    "          'O': [0,0,0,0,1,5],\n",
    "          'P': [1,0,0,0,1,4],\n",
    "          'Q': [0,0,1,0,1,5],\n",
    "          'R': [1,0,1,0,1,4],\n",
    "          'S': [0,0,0,0,0,4],\n",
    "          'T': [1,1,0,0,0,7],\n",
    "          'U': [2,0,0,0,0,4],\n",
    "          'V': [0,0,2,0,0,1],\n",
    "          'W': [0,1,4,0,0,1],\n",
    "          'X': [0,0,4,0,0,1],\n",
    "          'Y': [1,0,2,0,0,1],\n",
    "          'Z': [0,2,1,0,0,1]}"
   ]
  },
  {
   "cell_type": "code",
   "execution_count": 3,
   "id": "5355625b",
   "metadata": {},
   "outputs": [],
   "source": [
    "predict= array.array('i',[1,0,2,0,0,1])"
   ]
  },
  {
   "cell_type": "code",
   "execution_count": 4,
   "id": "3298c9ed",
   "metadata": {},
   "outputs": [],
   "source": [
    "ans=sys.float_info.max"
   ]
  },
  {
   "cell_type": "code",
   "execution_count": 5,
   "id": "05eb5937",
   "metadata": {},
   "outputs": [],
   "source": [
    "for k,v in hum.items():\n",
    "    i=0\n",
    "    val=0\n",
    "    if(isinstance(v, list)):\n",
    "        for value in v:\n",
    "            val=val+((value - predict[i])**2)\n",
    "            i=i+1\n",
    "    ed=float(math.sqrt(val))\n",
    "    if ans > ed:\n",
    "        ans=ed"
   ]
  },
  {
   "cell_type": "code",
   "execution_count": 6,
   "id": "8fabe65c",
   "metadata": {},
   "outputs": [],
   "source": [
    "cans = []\n",
    "for k,v in hum.items():\n",
    "    i=0\n",
    "    val=0\n",
    "    if(isinstance(v, list)):\n",
    "        for value in v:\n",
    "            val=val+((value - predict[i])**2)\n",
    "            i=i+1\n",
    "    ed=float(math.sqrt(val))\n",
    "    if ans == ed:\n",
    "        cans.append(k)"
   ]
  },
  {
   "cell_type": "code",
   "execution_count": 7,
   "id": "aea2c665",
   "metadata": {},
   "outputs": [
    {
     "name": "stdout",
     "output_type": "stream",
     "text": [
      "['K', 'Y']\n"
     ]
    }
   ],
   "source": [
    "print(cans)"
   ]
  },
  {
   "cell_type": "code",
   "execution_count": null,
   "id": "85f4d8ae",
   "metadata": {},
   "outputs": [],
   "source": []
  }
 ],
 "metadata": {
  "kernelspec": {
   "display_name": "Python 3",
   "language": "python",
   "name": "python3"
  },
  "language_info": {
   "codemirror_mode": {
    "name": "ipython",
    "version": 3
   },
   "file_extension": ".py",
   "mimetype": "text/x-python",
   "name": "python",
   "nbconvert_exporter": "python",
   "pygments_lexer": "ipython3",
   "version": "3.8.8"
  }
 },
 "nbformat": 4,
 "nbformat_minor": 5
}
